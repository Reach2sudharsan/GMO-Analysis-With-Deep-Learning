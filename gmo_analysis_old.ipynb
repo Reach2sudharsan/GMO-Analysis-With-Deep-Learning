{
 "cells": [
  {
   "cell_type": "code",
   "execution_count": 1,
   "metadata": {},
   "outputs": [],
   "source": [
    "import numpy as np\n",
    "# np.random.seed(42)\n",
    "import pandas as np\n",
    "import tensorflow as tf\n",
    "import matplotlib.pyplot as plt\n",
    "import pickle\n",
    "import sys\n",
    "import heapq\n",
    "import seaborn as sns\n",
    "import matplotlib\n",
    "from numpy.core.multiarray import dtype\n",
    "from keras.models import Sequential, load_model\n",
    "from keras.layers import Dense, Activation\n",
    "from keras.layers import LSTM, Dropout\n",
    "from keras.layers import TimeDistributed\n",
    "from keras.layers.core import Dense, Activation, Dropout, RepeatVector\n",
    "from keras.optimizers import RMSprop\n",
    "from pylab import rcParams\n",
    "matplotlib.use('agg')"
   ]
  },
  {
   "cell_type": "code",
   "execution_count": 3,
   "metadata": {},
   "outputs": [
    {
     "data": {
      "text/html": [
       "<div>\n",
       "<style scoped>\n",
       "    .dataframe tbody tr th:only-of-type {\n",
       "        vertical-align: middle;\n",
       "    }\n",
       "\n",
       "    .dataframe tbody tr th {\n",
       "        vertical-align: top;\n",
       "    }\n",
       "\n",
       "    .dataframe thead th {\n",
       "        text-align: right;\n",
       "    }\n",
       "</style>\n",
       "<table border=\"1\" class=\"dataframe\">\n",
       "  <thead>\n",
       "    <tr style=\"text-align: right;\">\n",
       "      <th></th>\n",
       "      <th>Unnamed: 0</th>\n",
       "      <th>user_name</th>\n",
       "      <th>user_location</th>\n",
       "      <th>user_description</th>\n",
       "      <th>user_verified</th>\n",
       "      <th>date</th>\n",
       "      <th>text</th>\n",
       "      <th>hashtags</th>\n",
       "      <th>source</th>\n",
       "    </tr>\n",
       "  </thead>\n",
       "  <tbody>\n",
       "    <tr>\n",
       "      <th>0</th>\n",
       "      <td>0</td>\n",
       "      <td>Divinity Seven♻️🏥</td>\n",
       "      <td>Las Vegas, NV</td>\n",
       "      <td>UNLV BS Public Administration, M.Ed, USC MSW, ...</td>\n",
       "      <td>False</td>\n",
       "      <td>2022-08-08 22:40:57+00:00</td>\n",
       "      <td>RT @FDAfood: Consumers and healthcare professi...</td>\n",
       "      <td>['GMOs', 'FeedYourMind']</td>\n",
       "      <td>Twitter for iPhone</td>\n",
       "    </tr>\n",
       "    <tr>\n",
       "      <th>1</th>\n",
       "      <td>1</td>\n",
       "      <td>Marco Pino</td>\n",
       "      <td>Panamá</td>\n",
       "      <td>Promovamos valores en nuestra sociedad, paz y ...</td>\n",
       "      <td>False</td>\n",
       "      <td>2022-08-08 19:36:54+00:00</td>\n",
       "      <td>RT @FDAfood: Consumers and healthcare professi...</td>\n",
       "      <td>['GMOs', 'FeedYourMind']</td>\n",
       "      <td>Twitter for Android</td>\n",
       "    </tr>\n",
       "    <tr>\n",
       "      <th>2</th>\n",
       "      <td>2</td>\n",
       "      <td>FDA_ORA</td>\n",
       "      <td>NaN</td>\n",
       "      <td>Get the latest information from FDA’s Office o...</td>\n",
       "      <td>True</td>\n",
       "      <td>2022-08-08 19:30:12+00:00</td>\n",
       "      <td>RT @FDAfood: Consumers and healthcare professi...</td>\n",
       "      <td>['GMOs', 'FeedYourMind']</td>\n",
       "      <td>Twitter for iPhone</td>\n",
       "    </tr>\n",
       "    <tr>\n",
       "      <th>3</th>\n",
       "      <td>3</td>\n",
       "      <td>FDA FOOD (Ctr for Food Safety &amp; Applied Nutrit...</td>\n",
       "      <td>College Park, MD</td>\n",
       "      <td>The latest on food safety, outbreaks, recalls,...</td>\n",
       "      <td>True</td>\n",
       "      <td>2022-08-08 18:51:00+00:00</td>\n",
       "      <td>Consumers and healthcare professionals can now...</td>\n",
       "      <td>['GMOs', 'FeedYourMind']</td>\n",
       "      <td>Twitter Web App</td>\n",
       "    </tr>\n",
       "    <tr>\n",
       "      <th>4</th>\n",
       "      <td>4</td>\n",
       "      <td>Dirt To Dinner</td>\n",
       "      <td>Connecticut, USA</td>\n",
       "      <td>Providing you with a better understanding of f...</td>\n",
       "      <td>False</td>\n",
       "      <td>2022-08-08 18:45:01+00:00</td>\n",
       "      <td>The message from the mainstream scientific and...</td>\n",
       "      <td>['CRISPR', 'GMOs']</td>\n",
       "      <td>Sprout Social</td>\n",
       "    </tr>\n",
       "    <tr>\n",
       "      <th>...</th>\n",
       "      <td>...</td>\n",
       "      <td>...</td>\n",
       "      <td>...</td>\n",
       "      <td>...</td>\n",
       "      <td>...</td>\n",
       "      <td>...</td>\n",
       "      <td>...</td>\n",
       "      <td>...</td>\n",
       "      <td>...</td>\n",
       "    </tr>\n",
       "    <tr>\n",
       "      <th>400</th>\n",
       "      <td>400</td>\n",
       "      <td>sse.ndi</td>\n",
       "      <td>NaN</td>\n",
       "      <td>discombobulated fr</td>\n",
       "      <td>False</td>\n",
       "      <td>2022-08-04 12:40:40+00:00</td>\n",
       "      <td>RT @UgandaBIC: Wheat is 1 of the most importan...</td>\n",
       "      <td>NaN</td>\n",
       "      <td>Twitter for iPhone</td>\n",
       "    </tr>\n",
       "    <tr>\n",
       "      <th>401</th>\n",
       "      <td>401</td>\n",
       "      <td>Godfrey Asea</td>\n",
       "      <td>Namulonge</td>\n",
       "      <td>My heart is in crops research for development!</td>\n",
       "      <td>False</td>\n",
       "      <td>2022-08-04 12:39:59+00:00</td>\n",
       "      <td>RT @UgandaBIC: Wheat is 1 of the most importan...</td>\n",
       "      <td>NaN</td>\n",
       "      <td>Twitter for iPhone</td>\n",
       "    </tr>\n",
       "    <tr>\n",
       "      <th>402</th>\n",
       "      <td>402</td>\n",
       "      <td>NARO-NaCRRI-Namulonge</td>\n",
       "      <td>27km, Gayaza-Zirobwe road</td>\n",
       "      <td>Uganda's premier crops resources research &amp; de...</td>\n",
       "      <td>False</td>\n",
       "      <td>2022-08-04 12:39:14+00:00</td>\n",
       "      <td>RT @UgandaBIC: Wheat is 1 of the most importan...</td>\n",
       "      <td>NaN</td>\n",
       "      <td>Twitter for iPhone</td>\n",
       "    </tr>\n",
       "    <tr>\n",
       "      <th>403</th>\n",
       "      <td>403</td>\n",
       "      <td>UBIC</td>\n",
       "      <td>NaCRRI-Namulonge</td>\n",
       "      <td>Uganda's premier modern Ag-biosciences informa...</td>\n",
       "      <td>False</td>\n",
       "      <td>2022-08-04 12:36:48+00:00</td>\n",
       "      <td>Wheat is 1 of the most important food crops wo...</td>\n",
       "      <td>NaN</td>\n",
       "      <td>Twitter for iPhone</td>\n",
       "    </tr>\n",
       "    <tr>\n",
       "      <th>404</th>\n",
       "      <td>404</td>\n",
       "      <td>M5AKA</td>\n",
       "      <td>Chelmsford</td>\n",
       "      <td>NaN</td>\n",
       "      <td>False</td>\n",
       "      <td>2022-07-31 15:58:30+00:00</td>\n",
       "      <td>The way to reduce nitrogen use while maintaini...</td>\n",
       "      <td>['GM', 'GMO']</td>\n",
       "      <td>Twitter Web App</td>\n",
       "    </tr>\n",
       "  </tbody>\n",
       "</table>\n",
       "<p>405 rows × 9 columns</p>\n",
       "</div>"
      ],
      "text/plain": [
       "     Unnamed: 0                                          user_name  \\\n",
       "0             0                                  Divinity Seven♻️🏥   \n",
       "1             1                                         Marco Pino   \n",
       "2             2                                            FDA_ORA   \n",
       "3             3  FDA FOOD (Ctr for Food Safety & Applied Nutrit...   \n",
       "4             4                                     Dirt To Dinner   \n",
       "..          ...                                                ...   \n",
       "400         400                                            sse.ndi   \n",
       "401         401                                       Godfrey Asea   \n",
       "402         402                              NARO-NaCRRI-Namulonge   \n",
       "403         403                                               UBIC   \n",
       "404         404                                              M5AKA   \n",
       "\n",
       "                  user_location  \\\n",
       "0                 Las Vegas, NV   \n",
       "1                        Panamá   \n",
       "2                           NaN   \n",
       "3              College Park, MD   \n",
       "4              Connecticut, USA   \n",
       "..                          ...   \n",
       "400                         NaN   \n",
       "401                   Namulonge   \n",
       "402  27km, Gayaza-Zirobwe road    \n",
       "403            NaCRRI-Namulonge   \n",
       "404                  Chelmsford   \n",
       "\n",
       "                                      user_description  user_verified  \\\n",
       "0    UNLV BS Public Administration, M.Ed, USC MSW, ...          False   \n",
       "1    Promovamos valores en nuestra sociedad, paz y ...          False   \n",
       "2    Get the latest information from FDA’s Office o...           True   \n",
       "3    The latest on food safety, outbreaks, recalls,...           True   \n",
       "4    Providing you with a better understanding of f...          False   \n",
       "..                                                 ...            ...   \n",
       "400                                 discombobulated fr          False   \n",
       "401     My heart is in crops research for development!          False   \n",
       "402  Uganda's premier crops resources research & de...          False   \n",
       "403  Uganda's premier modern Ag-biosciences informa...          False   \n",
       "404                                                NaN          False   \n",
       "\n",
       "                          date  \\\n",
       "0    2022-08-08 22:40:57+00:00   \n",
       "1    2022-08-08 19:36:54+00:00   \n",
       "2    2022-08-08 19:30:12+00:00   \n",
       "3    2022-08-08 18:51:00+00:00   \n",
       "4    2022-08-08 18:45:01+00:00   \n",
       "..                         ...   \n",
       "400  2022-08-04 12:40:40+00:00   \n",
       "401  2022-08-04 12:39:59+00:00   \n",
       "402  2022-08-04 12:39:14+00:00   \n",
       "403  2022-08-04 12:36:48+00:00   \n",
       "404  2022-07-31 15:58:30+00:00   \n",
       "\n",
       "                                                  text  \\\n",
       "0    RT @FDAfood: Consumers and healthcare professi...   \n",
       "1    RT @FDAfood: Consumers and healthcare professi...   \n",
       "2    RT @FDAfood: Consumers and healthcare professi...   \n",
       "3    Consumers and healthcare professionals can now...   \n",
       "4    The message from the mainstream scientific and...   \n",
       "..                                                 ...   \n",
       "400  RT @UgandaBIC: Wheat is 1 of the most importan...   \n",
       "401  RT @UgandaBIC: Wheat is 1 of the most importan...   \n",
       "402  RT @UgandaBIC: Wheat is 1 of the most importan...   \n",
       "403  Wheat is 1 of the most important food crops wo...   \n",
       "404  The way to reduce nitrogen use while maintaini...   \n",
       "\n",
       "                     hashtags               source  \n",
       "0    ['GMOs', 'FeedYourMind']   Twitter for iPhone  \n",
       "1    ['GMOs', 'FeedYourMind']  Twitter for Android  \n",
       "2    ['GMOs', 'FeedYourMind']   Twitter for iPhone  \n",
       "3    ['GMOs', 'FeedYourMind']      Twitter Web App  \n",
       "4          ['CRISPR', 'GMOs']        Sprout Social  \n",
       "..                        ...                  ...  \n",
       "400                       NaN   Twitter for iPhone  \n",
       "401                       NaN   Twitter for iPhone  \n",
       "402                       NaN   Twitter for iPhone  \n",
       "403                       NaN   Twitter for iPhone  \n",
       "404             ['GM', 'GMO']      Twitter Web App  \n",
       "\n",
       "[405 rows x 9 columns]"
      ]
     },
     "execution_count": 3,
     "metadata": {},
     "output_type": "execute_result"
    }
   ],
   "source": [
    "import pandas as pd\n",
    "gmo_csv = pd.read_csv('data-setup/GMO.csv')\n",
    "gmo_csv"
   ]
  },
  {
   "cell_type": "code",
   "execution_count": 4,
   "metadata": {},
   "outputs": [],
   "source": [
    "words = ' '.join(text for text in gmo_csv['text'])\n",
    "text = words.lower()"
   ]
  },
  {
   "cell_type": "code",
   "execution_count": 5,
   "metadata": {},
   "outputs": [
    {
     "name": "stdout",
     "output_type": "stream",
     "text": [
      "unique chars:  89\n"
     ]
    }
   ],
   "source": [
    "chars = sorted(list(set(text)))\n",
    "char_indices = dict((c, i) for i, c in enumerate(chars))\n",
    "indices_char = dict((i, c) for i, c in enumerate(chars))\n",
    "print (\"unique chars: \",len(chars))"
   ]
  },
  {
   "cell_type": "code",
   "execution_count": 6,
   "metadata": {},
   "outputs": [
    {
     "name": "stdout",
     "output_type": "stream",
     "text": [
      "num training examples:  20207\n"
     ]
    }
   ],
   "source": [
    "SEQUENCE_LENGTH = 39\n",
    "step = 3\n",
    "sentences = []\n",
    "next_chars = []\n",
    "for i in range(0, len(text) - SEQUENCE_LENGTH, step):\n",
    "    sentences.append(text[i:i+SEQUENCE_LENGTH])\n",
    "    next_chars.append(text[i+SEQUENCE_LENGTH])\n",
    "print ('num training examples: ',len(sentences))"
   ]
  },
  {
   "cell_type": "code",
   "execution_count": 7,
   "metadata": {},
   "outputs": [
    {
     "name": "stderr",
     "output_type": "stream",
     "text": [
      "/var/folders/4m/jxk5_ydd4zl7c_t8ktc70vnw0000gn/T/ipykernel_21912/3626284764.py:2: DeprecationWarning: `np.bool` is a deprecated alias for the builtin `bool`. To silence this warning, use `bool` by itself. Doing this will not modify any behavior and is safe. If you specifically wanted the numpy scalar type, use `np.bool_` here.\n",
      "Deprecated in NumPy 1.20; for more details and guidance: https://numpy.org/devdocs/release/1.20.0-notes.html#deprecations\n",
      "  X = np.zeros((len(sentences), SEQUENCE_LENGTH, len(chars)), dtype=np.bool)\n",
      "/var/folders/4m/jxk5_ydd4zl7c_t8ktc70vnw0000gn/T/ipykernel_21912/3626284764.py:3: DeprecationWarning: `np.bool` is a deprecated alias for the builtin `bool`. To silence this warning, use `bool` by itself. Doing this will not modify any behavior and is safe. If you specifically wanted the numpy scalar type, use `np.bool_` here.\n",
      "Deprecated in NumPy 1.20; for more details and guidance: https://numpy.org/devdocs/release/1.20.0-notes.html#deprecations\n",
      "  y = np.zeros((len(sentences), len(chars)), dtype=np.bool)\n"
     ]
    }
   ],
   "source": [
    "import numpy as np\n",
    "X = np.zeros((len(sentences), SEQUENCE_LENGTH, len(chars)), dtype=np.bool)\n",
    "y = np.zeros((len(sentences), len(chars)), dtype=np.bool)\n",
    "for i, sentence in enumerate(sentences):\n",
    "    for t, char in enumerate(sentence):\n",
    "        X[i, t, char_indices[char]] = 1\n",
    "    y[i, char_indices[next_chars[i]]] = 1"
   ]
  },
  {
   "cell_type": "code",
   "execution_count": 8,
   "metadata": {},
   "outputs": [
    {
     "name": "stderr",
     "output_type": "stream",
     "text": [
      "2022-09-05 00:42:07.013663: I tensorflow/core/platform/cpu_feature_guard.cc:193] This TensorFlow binary is optimized with oneAPI Deep Neural Network Library (oneDNN) to use the following CPU instructions in performance-critical operations:  AVX2 AVX512F AVX512_VNNI FMA\n",
      "To enable them in other operations, rebuild TensorFlow with the appropriate compiler flags.\n"
     ]
    }
   ],
   "source": [
    "model = Sequential();\n",
    "model.add(LSTM(128, input_shape=(SEQUENCE_LENGTH, len(chars))))\n",
    "model.add(Dense(len(chars)))\n",
    "model.add(Activation('softmax'))"
   ]
  },
  {
   "cell_type": "code",
   "execution_count": 9,
   "metadata": {},
   "outputs": [
    {
     "name": "stdout",
     "output_type": "stream",
     "text": [
      "Epoch 1/20\n"
     ]
    },
    {
     "name": "stderr",
     "output_type": "stream",
     "text": [
      "/Library/Frameworks/Python.framework/Versions/3.10/lib/python3.10/site-packages/keras/optimizers/optimizer_v2/rmsprop.py:135: UserWarning: The `lr` argument is deprecated, use `learning_rate` instead.\n",
      "  super(RMSprop, self).__init__(name, **kwargs)\n"
     ]
    },
    {
     "name": "stdout",
     "output_type": "stream",
     "text": [
      "150/150 [==============================] - 19s 106ms/step - loss: 2.7594 - accuracy: 0.2670 - val_loss: 2.7555 - val_accuracy: 0.2552\n",
      "Epoch 2/20\n",
      "150/150 [==============================] - 14s 91ms/step - loss: 1.7771 - accuracy: 0.5306 - val_loss: 2.5684 - val_accuracy: 0.3254\n",
      "Epoch 3/20\n",
      "150/150 [==============================] - 13s 83ms/step - loss: 1.2787 - accuracy: 0.6658 - val_loss: 2.4565 - val_accuracy: 0.3670\n",
      "Epoch 4/20\n",
      "150/150 [==============================] - 12s 77ms/step - loss: 1.0033 - accuracy: 0.7362 - val_loss: 2.3593 - val_accuracy: 0.3877\n",
      "Epoch 5/20\n",
      "150/150 [==============================] - 16s 108ms/step - loss: 0.8335 - accuracy: 0.7817 - val_loss: 2.3734 - val_accuracy: 0.4055\n",
      "Epoch 6/20\n",
      "150/150 [==============================] - 17s 115ms/step - loss: 0.7096 - accuracy: 0.8103 - val_loss: 2.3163 - val_accuracy: 0.4243\n",
      "Epoch 7/20\n",
      " 33/150 [=====>........................] - ETA: 14s - loss: 0.5841 - accuracy: 0.8442"
     ]
    },
    {
     "ename": "KeyboardInterrupt",
     "evalue": "",
     "output_type": "error",
     "traceback": [
      "\u001b[0;31m---------------------------------------------------------------------------\u001b[0m",
      "\u001b[0;31mKeyboardInterrupt\u001b[0m                         Traceback (most recent call last)",
      "\u001b[1;32m/Users/sudharsangopalakrishnan/GMO-Analysis-With-Deep-Learning/gmo_analysis.ipynb Cell 8\u001b[0m in \u001b[0;36m<module>\u001b[0;34m\u001b[0m\n\u001b[1;32m      <a href='vscode-notebook-cell:/Users/sudharsangopalakrishnan/GMO-Analysis-With-Deep-Learning/gmo_analysis.ipynb#X10sZmlsZQ%3D%3D?line=0'>1</a>\u001b[0m optimizer \u001b[39m=\u001b[39m RMSprop(lr\u001b[39m=\u001b[39m \u001b[39m0.01\u001b[39m)\n\u001b[1;32m      <a href='vscode-notebook-cell:/Users/sudharsangopalakrishnan/GMO-Analysis-With-Deep-Learning/gmo_analysis.ipynb#X10sZmlsZQ%3D%3D?line=1'>2</a>\u001b[0m model\u001b[39m.\u001b[39mcompile(loss\u001b[39m=\u001b[39m\u001b[39m'\u001b[39m\u001b[39mcategorical_crossentropy\u001b[39m\u001b[39m'\u001b[39m, optimizer\u001b[39m=\u001b[39moptimizer, metrics\u001b[39m=\u001b[39m[\u001b[39m'\u001b[39m\u001b[39maccuracy\u001b[39m\u001b[39m'\u001b[39m])\n\u001b[0;32m----> <a href='vscode-notebook-cell:/Users/sudharsangopalakrishnan/GMO-Analysis-With-Deep-Learning/gmo_analysis.ipynb#X10sZmlsZQ%3D%3D?line=2'>3</a>\u001b[0m history \u001b[39m=\u001b[39m model\u001b[39m.\u001b[39;49mfit(X, y, validation_split\u001b[39m=\u001b[39;49m\u001b[39m0.05\u001b[39;49m, batch_size\u001b[39m=\u001b[39;49m\u001b[39m128\u001b[39;49m, epochs\u001b[39m=\u001b[39;49m\u001b[39m20\u001b[39;49m, shuffle\u001b[39m=\u001b[39;49m\u001b[39mTrue\u001b[39;49;00m)\u001b[39m.\u001b[39mhistory\n",
      "File \u001b[0;32m/Library/Frameworks/Python.framework/Versions/3.10/lib/python3.10/site-packages/keras/utils/traceback_utils.py:64\u001b[0m, in \u001b[0;36mfilter_traceback.<locals>.error_handler\u001b[0;34m(*args, **kwargs)\u001b[0m\n\u001b[1;32m     62\u001b[0m filtered_tb \u001b[39m=\u001b[39m \u001b[39mNone\u001b[39;00m\n\u001b[1;32m     63\u001b[0m \u001b[39mtry\u001b[39;00m:\n\u001b[0;32m---> 64\u001b[0m   \u001b[39mreturn\u001b[39;00m fn(\u001b[39m*\u001b[39;49margs, \u001b[39m*\u001b[39;49m\u001b[39m*\u001b[39;49mkwargs)\n\u001b[1;32m     65\u001b[0m \u001b[39mexcept\u001b[39;00m \u001b[39mException\u001b[39;00m \u001b[39mas\u001b[39;00m e:  \u001b[39m# pylint: disable=broad-except\u001b[39;00m\n\u001b[1;32m     66\u001b[0m   filtered_tb \u001b[39m=\u001b[39m _process_traceback_frames(e\u001b[39m.\u001b[39m__traceback__)\n",
      "File \u001b[0;32m/Library/Frameworks/Python.framework/Versions/3.10/lib/python3.10/site-packages/keras/engine/training.py:1409\u001b[0m, in \u001b[0;36mModel.fit\u001b[0;34m(self, x, y, batch_size, epochs, verbose, callbacks, validation_split, validation_data, shuffle, class_weight, sample_weight, initial_epoch, steps_per_epoch, validation_steps, validation_batch_size, validation_freq, max_queue_size, workers, use_multiprocessing)\u001b[0m\n\u001b[1;32m   1402\u001b[0m \u001b[39mwith\u001b[39;00m tf\u001b[39m.\u001b[39mprofiler\u001b[39m.\u001b[39mexperimental\u001b[39m.\u001b[39mTrace(\n\u001b[1;32m   1403\u001b[0m     \u001b[39m'\u001b[39m\u001b[39mtrain\u001b[39m\u001b[39m'\u001b[39m,\n\u001b[1;32m   1404\u001b[0m     epoch_num\u001b[39m=\u001b[39mepoch,\n\u001b[1;32m   1405\u001b[0m     step_num\u001b[39m=\u001b[39mstep,\n\u001b[1;32m   1406\u001b[0m     batch_size\u001b[39m=\u001b[39mbatch_size,\n\u001b[1;32m   1407\u001b[0m     _r\u001b[39m=\u001b[39m\u001b[39m1\u001b[39m):\n\u001b[1;32m   1408\u001b[0m   callbacks\u001b[39m.\u001b[39mon_train_batch_begin(step)\n\u001b[0;32m-> 1409\u001b[0m   tmp_logs \u001b[39m=\u001b[39m \u001b[39mself\u001b[39;49m\u001b[39m.\u001b[39;49mtrain_function(iterator)\n\u001b[1;32m   1410\u001b[0m   \u001b[39mif\u001b[39;00m data_handler\u001b[39m.\u001b[39mshould_sync:\n\u001b[1;32m   1411\u001b[0m     context\u001b[39m.\u001b[39masync_wait()\n",
      "File \u001b[0;32m/Library/Frameworks/Python.framework/Versions/3.10/lib/python3.10/site-packages/tensorflow/python/util/traceback_utils.py:150\u001b[0m, in \u001b[0;36mfilter_traceback.<locals>.error_handler\u001b[0;34m(*args, **kwargs)\u001b[0m\n\u001b[1;32m    148\u001b[0m filtered_tb \u001b[39m=\u001b[39m \u001b[39mNone\u001b[39;00m\n\u001b[1;32m    149\u001b[0m \u001b[39mtry\u001b[39;00m:\n\u001b[0;32m--> 150\u001b[0m   \u001b[39mreturn\u001b[39;00m fn(\u001b[39m*\u001b[39;49margs, \u001b[39m*\u001b[39;49m\u001b[39m*\u001b[39;49mkwargs)\n\u001b[1;32m    151\u001b[0m \u001b[39mexcept\u001b[39;00m \u001b[39mException\u001b[39;00m \u001b[39mas\u001b[39;00m e:\n\u001b[1;32m    152\u001b[0m   filtered_tb \u001b[39m=\u001b[39m _process_traceback_frames(e\u001b[39m.\u001b[39m__traceback__)\n",
      "File \u001b[0;32m/Library/Frameworks/Python.framework/Versions/3.10/lib/python3.10/site-packages/tensorflow/python/eager/def_function.py:915\u001b[0m, in \u001b[0;36mFunction.__call__\u001b[0;34m(self, *args, **kwds)\u001b[0m\n\u001b[1;32m    912\u001b[0m compiler \u001b[39m=\u001b[39m \u001b[39m\"\u001b[39m\u001b[39mxla\u001b[39m\u001b[39m\"\u001b[39m \u001b[39mif\u001b[39;00m \u001b[39mself\u001b[39m\u001b[39m.\u001b[39m_jit_compile \u001b[39melse\u001b[39;00m \u001b[39m\"\u001b[39m\u001b[39mnonXla\u001b[39m\u001b[39m\"\u001b[39m\n\u001b[1;32m    914\u001b[0m \u001b[39mwith\u001b[39;00m OptionalXlaContext(\u001b[39mself\u001b[39m\u001b[39m.\u001b[39m_jit_compile):\n\u001b[0;32m--> 915\u001b[0m   result \u001b[39m=\u001b[39m \u001b[39mself\u001b[39;49m\u001b[39m.\u001b[39;49m_call(\u001b[39m*\u001b[39;49margs, \u001b[39m*\u001b[39;49m\u001b[39m*\u001b[39;49mkwds)\n\u001b[1;32m    917\u001b[0m new_tracing_count \u001b[39m=\u001b[39m \u001b[39mself\u001b[39m\u001b[39m.\u001b[39mexperimental_get_tracing_count()\n\u001b[1;32m    918\u001b[0m without_tracing \u001b[39m=\u001b[39m (tracing_count \u001b[39m==\u001b[39m new_tracing_count)\n",
      "File \u001b[0;32m/Library/Frameworks/Python.framework/Versions/3.10/lib/python3.10/site-packages/tensorflow/python/eager/def_function.py:947\u001b[0m, in \u001b[0;36mFunction._call\u001b[0;34m(self, *args, **kwds)\u001b[0m\n\u001b[1;32m    944\u001b[0m   \u001b[39mself\u001b[39m\u001b[39m.\u001b[39m_lock\u001b[39m.\u001b[39mrelease()\n\u001b[1;32m    945\u001b[0m   \u001b[39m# In this case we have created variables on the first call, so we run the\u001b[39;00m\n\u001b[1;32m    946\u001b[0m   \u001b[39m# defunned version which is guaranteed to never create variables.\u001b[39;00m\n\u001b[0;32m--> 947\u001b[0m   \u001b[39mreturn\u001b[39;00m \u001b[39mself\u001b[39;49m\u001b[39m.\u001b[39;49m_stateless_fn(\u001b[39m*\u001b[39;49margs, \u001b[39m*\u001b[39;49m\u001b[39m*\u001b[39;49mkwds)  \u001b[39m# pylint: disable=not-callable\u001b[39;00m\n\u001b[1;32m    948\u001b[0m \u001b[39melif\u001b[39;00m \u001b[39mself\u001b[39m\u001b[39m.\u001b[39m_stateful_fn \u001b[39mis\u001b[39;00m \u001b[39mnot\u001b[39;00m \u001b[39mNone\u001b[39;00m:\n\u001b[1;32m    949\u001b[0m   \u001b[39m# Release the lock early so that multiple threads can perform the call\u001b[39;00m\n\u001b[1;32m    950\u001b[0m   \u001b[39m# in parallel.\u001b[39;00m\n\u001b[1;32m    951\u001b[0m   \u001b[39mself\u001b[39m\u001b[39m.\u001b[39m_lock\u001b[39m.\u001b[39mrelease()\n",
      "File \u001b[0;32m/Library/Frameworks/Python.framework/Versions/3.10/lib/python3.10/site-packages/tensorflow/python/eager/function.py:2453\u001b[0m, in \u001b[0;36mFunction.__call__\u001b[0;34m(self, *args, **kwargs)\u001b[0m\n\u001b[1;32m   2450\u001b[0m \u001b[39mwith\u001b[39;00m \u001b[39mself\u001b[39m\u001b[39m.\u001b[39m_lock:\n\u001b[1;32m   2451\u001b[0m   (graph_function,\n\u001b[1;32m   2452\u001b[0m    filtered_flat_args) \u001b[39m=\u001b[39m \u001b[39mself\u001b[39m\u001b[39m.\u001b[39m_maybe_define_function(args, kwargs)\n\u001b[0;32m-> 2453\u001b[0m \u001b[39mreturn\u001b[39;00m graph_function\u001b[39m.\u001b[39;49m_call_flat(\n\u001b[1;32m   2454\u001b[0m     filtered_flat_args, captured_inputs\u001b[39m=\u001b[39;49mgraph_function\u001b[39m.\u001b[39;49mcaptured_inputs)\n",
      "File \u001b[0;32m/Library/Frameworks/Python.framework/Versions/3.10/lib/python3.10/site-packages/tensorflow/python/eager/function.py:1860\u001b[0m, in \u001b[0;36mConcreteFunction._call_flat\u001b[0;34m(self, args, captured_inputs, cancellation_manager)\u001b[0m\n\u001b[1;32m   1856\u001b[0m possible_gradient_type \u001b[39m=\u001b[39m gradients_util\u001b[39m.\u001b[39mPossibleTapeGradientTypes(args)\n\u001b[1;32m   1857\u001b[0m \u001b[39mif\u001b[39;00m (possible_gradient_type \u001b[39m==\u001b[39m gradients_util\u001b[39m.\u001b[39mPOSSIBLE_GRADIENT_TYPES_NONE\n\u001b[1;32m   1858\u001b[0m     \u001b[39mand\u001b[39;00m executing_eagerly):\n\u001b[1;32m   1859\u001b[0m   \u001b[39m# No tape is watching; skip to running the function.\u001b[39;00m\n\u001b[0;32m-> 1860\u001b[0m   \u001b[39mreturn\u001b[39;00m \u001b[39mself\u001b[39m\u001b[39m.\u001b[39m_build_call_outputs(\u001b[39mself\u001b[39;49m\u001b[39m.\u001b[39;49m_inference_function\u001b[39m.\u001b[39;49mcall(\n\u001b[1;32m   1861\u001b[0m       ctx, args, cancellation_manager\u001b[39m=\u001b[39;49mcancellation_manager))\n\u001b[1;32m   1862\u001b[0m forward_backward \u001b[39m=\u001b[39m \u001b[39mself\u001b[39m\u001b[39m.\u001b[39m_select_forward_and_backward_functions(\n\u001b[1;32m   1863\u001b[0m     args,\n\u001b[1;32m   1864\u001b[0m     possible_gradient_type,\n\u001b[1;32m   1865\u001b[0m     executing_eagerly)\n\u001b[1;32m   1866\u001b[0m forward_function, args_with_tangents \u001b[39m=\u001b[39m forward_backward\u001b[39m.\u001b[39mforward()\n",
      "File \u001b[0;32m/Library/Frameworks/Python.framework/Versions/3.10/lib/python3.10/site-packages/tensorflow/python/eager/function.py:497\u001b[0m, in \u001b[0;36m_EagerDefinedFunction.call\u001b[0;34m(self, ctx, args, cancellation_manager)\u001b[0m\n\u001b[1;32m    495\u001b[0m \u001b[39mwith\u001b[39;00m _InterpolateFunctionError(\u001b[39mself\u001b[39m):\n\u001b[1;32m    496\u001b[0m   \u001b[39mif\u001b[39;00m cancellation_manager \u001b[39mis\u001b[39;00m \u001b[39mNone\u001b[39;00m:\n\u001b[0;32m--> 497\u001b[0m     outputs \u001b[39m=\u001b[39m execute\u001b[39m.\u001b[39;49mexecute(\n\u001b[1;32m    498\u001b[0m         \u001b[39mstr\u001b[39;49m(\u001b[39mself\u001b[39;49m\u001b[39m.\u001b[39;49msignature\u001b[39m.\u001b[39;49mname),\n\u001b[1;32m    499\u001b[0m         num_outputs\u001b[39m=\u001b[39;49m\u001b[39mself\u001b[39;49m\u001b[39m.\u001b[39;49m_num_outputs,\n\u001b[1;32m    500\u001b[0m         inputs\u001b[39m=\u001b[39;49margs,\n\u001b[1;32m    501\u001b[0m         attrs\u001b[39m=\u001b[39;49mattrs,\n\u001b[1;32m    502\u001b[0m         ctx\u001b[39m=\u001b[39;49mctx)\n\u001b[1;32m    503\u001b[0m   \u001b[39melse\u001b[39;00m:\n\u001b[1;32m    504\u001b[0m     outputs \u001b[39m=\u001b[39m execute\u001b[39m.\u001b[39mexecute_with_cancellation(\n\u001b[1;32m    505\u001b[0m         \u001b[39mstr\u001b[39m(\u001b[39mself\u001b[39m\u001b[39m.\u001b[39msignature\u001b[39m.\u001b[39mname),\n\u001b[1;32m    506\u001b[0m         num_outputs\u001b[39m=\u001b[39m\u001b[39mself\u001b[39m\u001b[39m.\u001b[39m_num_outputs,\n\u001b[0;32m   (...)\u001b[0m\n\u001b[1;32m    509\u001b[0m         ctx\u001b[39m=\u001b[39mctx,\n\u001b[1;32m    510\u001b[0m         cancellation_manager\u001b[39m=\u001b[39mcancellation_manager)\n",
      "File \u001b[0;32m/Library/Frameworks/Python.framework/Versions/3.10/lib/python3.10/site-packages/tensorflow/python/eager/execute.py:54\u001b[0m, in \u001b[0;36mquick_execute\u001b[0;34m(op_name, num_outputs, inputs, attrs, ctx, name)\u001b[0m\n\u001b[1;32m     52\u001b[0m \u001b[39mtry\u001b[39;00m:\n\u001b[1;32m     53\u001b[0m   ctx\u001b[39m.\u001b[39mensure_initialized()\n\u001b[0;32m---> 54\u001b[0m   tensors \u001b[39m=\u001b[39m pywrap_tfe\u001b[39m.\u001b[39;49mTFE_Py_Execute(ctx\u001b[39m.\u001b[39;49m_handle, device_name, op_name,\n\u001b[1;32m     55\u001b[0m                                       inputs, attrs, num_outputs)\n\u001b[1;32m     56\u001b[0m \u001b[39mexcept\u001b[39;00m core\u001b[39m.\u001b[39m_NotOkStatusException \u001b[39mas\u001b[39;00m e:\n\u001b[1;32m     57\u001b[0m   \u001b[39mif\u001b[39;00m name \u001b[39mis\u001b[39;00m \u001b[39mnot\u001b[39;00m \u001b[39mNone\u001b[39;00m:\n",
      "\u001b[0;31mKeyboardInterrupt\u001b[0m: "
     ]
    }
   ],
   "source": [
    "optimizer = RMSprop(lr= 0.01)\n",
    "model.compile(loss='categorical_crossentropy', optimizer=optimizer, metrics=['accuracy'])\n",
    "history = model.fit(X, y, validation_split=0.05, batch_size=128, epochs=20, shuffle=True).history"
   ]
  },
  {
   "cell_type": "code",
   "execution_count": 92,
   "metadata": {},
   "outputs": [],
   "source": [
    "model.save('keras_model'+str(SEQUENCE_LENGTH)+'.h5')\n",
    "pickle.dump(history, open('history'+str(SEQUENCE_LENGTH)+'.p', 'wb'))\n",
    "model.predict_step"
   ]
  },
  {
   "cell_type": "code",
   "execution_count": 93,
   "metadata": {},
   "outputs": [],
   "source": [
    "model = load_model('keras_model'+str(SEQUENCE_LENGTH)+'.h5')\n",
    "history = pickle.load(open('history'+str(SEQUENCE_LENGTH)+'.p', 'rb'))"
   ]
  },
  {
   "cell_type": "code",
   "execution_count": 94,
   "metadata": {},
   "outputs": [
    {
     "data": {
      "image/png": "[encoded data removed]",
      "text/plain": [
       "<Figure size 432x288 with 1 Axes>"
      ]
     },
     "metadata": {
      "needs_background": "light"
     },
     "output_type": "display_data"
    }
   ],
   "source": [
    "plt.plot(history['accuracy'])\n",
    "plt.plot(history['val_accuracy'])\n",
    "plt.title('model accuracy')\n",
    "plt.ylabel('accuracy')\n",
    "plt.xlabel('epoch')\n",
    "plt.legend(['train', 'test'], loc= 'upper left')\n",
    "plt.savefig(\"01.Accuracy.png\")"
   ]
  },
  {
   "cell_type": "code",
   "execution_count": 95,
   "metadata": {},
   "outputs": [
    {
     "data": {
      "image/png": "[encoded data removed]",
      "text/plain": [
       "<Figure size 432x288 with 1 Axes>"
      ]
     },
     "metadata": {
      "needs_background": "light"
     },
     "output_type": "display_data"
    }
   ],
   "source": [
    "plt.plot(history['loss'])\n",
    "plt.plot(history['val_loss'])\n",
    "plt.title('model loss')\n",
    "plt.ylabel('loss')\n",
    "plt.xlabel('epoch')\n",
    "plt.legend(['train', 'test'], loc= 'upper left')\n",
    "plt.savefig(\"02.Loss.png\")"
   ]
  },
  {
   "cell_type": "code",
   "execution_count": 10,
   "metadata": {},
   "outputs": [],
   "source": [
    "def prepare_input(text):\n",
    "    x = np.zeros((1, SEQUENCE_LENGTH, len(chars)))\n",
    "    for t, char in enumerate(text):\n",
    "        x[0, t, char_indices[char]] = 1\n",
    "    return x"
   ]
  },
  {
   "cell_type": "code",
   "execution_count": 11,
   "metadata": {},
   "outputs": [],
   "source": [
    "def sample(preds, top_n = 3):\n",
    "    preds = np.asarray(preds).astype('float64')\n",
    "    preds = np.log(preds)\n",
    "    exp_preds = np.exp(preds)\n",
    "    preds = exp_preds / np.sum(exp_preds)\n",
    "    return heapq.nlargest(top_n, range(len(preds)), preds.take)"
   ]
  },
  {
   "cell_type": "code",
   "execution_count": 12,
   "metadata": {},
   "outputs": [],
   "source": [
    "def predict_completion(text):\n",
    "    original_text = text\n",
    "    generalised = text\n",
    "    completion = ''\n",
    "    while True:\n",
    "        x = prepare_input(text)\n",
    "        preds = model.predict(x, verbose=0)[0]\n",
    "        next_index = sample(preds, top_n=1)[0]\n",
    "        next_char = indices_char[next_index]\n",
    "        text = text[1:] + next_char\n",
    "        completion += next_char\n",
    "        if len(original_text + completion) + 2 > len(original_text) and next_char == ' ':\n",
    "            return completion"
   ]
  },
  {
   "cell_type": "code",
   "execution_count": 13,
   "metadata": {},
   "outputs": [],
   "source": [
    "def predict_completions(text, n = 3):\n",
    "    x = prepare_input(text)\n",
    "    preds = model.predict(x, verbose=0)[0]\n",
    "    next_indices = sample(preds, n)\n",
    "    return [indices_char[idx] + predict_completion(text[1:] + indices_char[idx]) for idx in next_indices]"
   ]
  },
  {
   "cell_type": "code",
   "execution_count": 14,
   "metadata": {},
   "outputs": [
    {
     "data": {
      "text/plain": [
       "'RT @nongmoreport: This page contains a lot of good information on what #nonGMO means, what #GMOs are, why GMOs pose threats to human health…'"
      ]
     },
     "execution_count": 14,
     "metadata": {},
     "output_type": "execute_result"
    }
   ],
   "source": [
    "str(gmo_csv['text'][60])"
   ]
  },
  {
   "cell_type": "code",
   "execution_count": 15,
   "metadata": {},
   "outputs": [],
   "source": [
    "quotes = [\n",
    "    str(gmo_csv['text'][60]),\n",
    "    str(gmo_csv['text'][70]),\n",
    "    str(gmo_csv['text'][80]),\n",
    "    str(gmo_csv['text'][90]),\n",
    "    str(gmo_csv['text'][100]),\n",
    "    \"GMOs are very unsafe today\"\n",
    "]"
   ]
  },
  {
   "cell_type": "code",
   "execution_count": 16,
   "metadata": {},
   "outputs": [
    {
     "name": "stdout",
     "output_type": "stream",
     "text": [
      "rt @nongmoreport: this page contains a \n",
      "['lou ', 'rom ', 'mout ', 'pormaculture ', 'hom ']\n",
      "\n",
      "the nsa are robbing patriots with mossa\n",
      "['t ', 'nd ', 'rt ', 'ld ', ': ']\n",
      "\n",
      "rt @drvandanashiva: nature’s food econo\n",
      "['my ', 'by ', ' y ', 'gy ', 'ty ']\n",
      "\n",
      "rt @drvandanashiva: nature’s food econo\n",
      "['my ', 'by ', ' y ', 'gy ', 'ty ']\n",
      "\n",
      "rt @organiclivefood: only in us #organi\n",
      "['c ', 'on ', 's ', 'n ', 'bifermand ']\n",
      "\n",
      "gmos are very unsafe today\n",
      "['  ', 't ', 'e ', 'n ', 'r ']\n",
      "\n"
     ]
    }
   ],
   "source": [
    "for q in quotes:\n",
    "    seq = q[:SEQUENCE_LENGTH].lower()\n",
    "    print (seq)\n",
    "    print (predict_completions(seq, 5))\n",
    "    print ()"
   ]
  },
  {
   "cell_type": "code",
   "execution_count": 17,
   "metadata": {},
   "outputs": [],
   "source": [
    "import tensorflow as tf\n",
    "from keras_preprocessing.sequence import pad_sequences\n",
    "from keras.layers import Embedding, LSTM, Dense, Bidirectional\n",
    "from keras.preprocessing.text import Tokenizer\n",
    "from keras.models import Sequential\n",
    "from keras.optimizers import Adam\n",
    "import numpy as np"
   ]
  },
  {
   "cell_type": "code",
   "execution_count": 18,
   "metadata": {},
   "outputs": [
    {
     "name": "stdout",
     "output_type": "stream",
     "text": [
      "{'rt': 1, 'gmos': 2, 'the': 3, 'of': 4, 'food': 5, 'in': 6, 'co': 7, 't': 8, 'https': 9, 'are': 10, 'to': 11, 'us': 12, 'that': 13, 'not': 14, 'grown': 15, 'we': 16, 'organiclivefood': 17, '…': 18, 'only': 19, 'no': 20, 'farmers': 21, 'be': 22, 'do': 23, 'organic': 24, 'bayer': 25, 'monsanto': 26, 'like': 27, 'treated': 28, 'terrorists': 29, 'shall': 30, 'own': 31, 'is': 32, 'and': 33, 'gmwatch': 34, 'a': 35, 'for': 36, 'new': 37, 'amp': 38, 'industrial': 39, 'how': 40, 'drvandanashiva': 41, 'by': 42, 'as': 43, 'have': 44, 'plants': 45, 'green': 46, 'products': 47, 'economy': 48, 'plantbased': 49, 'life': 50, 'deregulation': 51, 'nature’s': 52, 'since': 53, 'all': 54, 'sustained': 55, 'leaves': 56, 'fakefood': 57, 'toxic': 58, 'countries': 59, 'with': 60, 'economy…': 61, 'on': 62, 'our': 63, 'other': 64, 'fields': 65, 'it': 66, '2': 67, 'feeding': 68, 'than': 69, 'through': 70, 'about': 71, 'corn': 72, 'breeding': 73, 'a…': 74, 'truss': 75, 'world': 76, 'vows': 77, '‘unleash': 78, 'british': 79, 'farming’': 80, 'including': 81, '‘precision': 82, 'technologies’': 83, 'code': 84, 'but': 85, 'less': 86, 'american': 87, 'directly': 88, 'consumed': 89, 'cereal': 90, 'htt…': 91, 'from': 92, 'make': 93, 'they': 94, 'gmo': 95, 'what': 96, 'pesticides': 97, 'use': 98, 'label': 99, 'out': 100, 'gmofree': 101, 'banned': 102, 'this': 103, 'feedyourmind': 104, 'support': 105, 'crops': 106, 'permaculture': 107, 'genetic': 108, 'created': 109, 'court': 110, '38': 111, 'would': 112, 'even': 113, 'bmgkbc2qbf': 114, 'materials': 115, 'learn': 116, 'will': 117, 'worse': 118, 'fda': 119, 'at': 120, 'pesticide': 121, 'genetically': 122, 'increased': 123, 'saveourseeds': 124, 'early': 125, '2018': 126, 'european': 127, 'justice': 128, 'ruled': 129, 'engineering': 130, 'push': 131, 'won’t': 132, 'solve': 133, '7': 134, 'health': 135, 'are…': 136, 'fdafood': 137, 'can': 138, 'more': 139, 'minority': 140, 'reasons': 141, 'fight': 142, 'ourlandourfoodourrice': 143, 'your': 144, 'after': 145, 'rejectgoldenrice': 146, '🚫': 147, '🌾🍚👩\\u200d🌾': 148, 'read': 149, 'stopgoldenrice': 150, 'network': 151, 'asia': 152, 'information': 153, 'part': 154, 'science': 155, 'had': 156, 'wheat': 157, 'find': 158, 'leading': 159, 'charge': 160, 'main': 161, 'producing': 162, 'human': 163, 'know': 164, 'chemicals': 165, 'study': 166, 'eu': 167, 'truth': 168, 'climate': 169, 'safe': 170, 'the…': 171, 'does': 172, 'also': 173, 'lbbavieyno': 174, 'good': 175, 'why': 176, 'keep': 177, 'abt': 178, 'china': 179, 'now': 180, 'regulate': 181, 'farm': 182, 'table': 183, 'contains': 184, 'nongmo': 185, 'threats': 186, 'statement': 187, 'foodcrisis': 188, '👉': 189, 'covid': 190, 'you': 191, 'free': 192, 'has': 193, 'yield': 194, 'professionals': 195, 'website': 196, 'grain': 197, '1': 198, 'go': 199, 'against': 200, 'page': 201, 'lot': 202, 'means': 203, 'pose': 204, '4': 205, 'foods': 206, 'article': 207, 'need': 208, 'modified': 209, 'mortarpestleusa': 210, 'i': 211, 'important': 212, 'finds': 213, 'was': 214, '🌱': 215, 'high': 216, 'secret': 217, 'herbicides': 218, 'fertilisers': 219, 'study…': 220, 'foeeurope': 221, 'newgmo': 222, 'damaging': 223, 'systems': 224, '🏭': 225, 'ask': 226, 'off': 227, 'plates…': 228, 'global': 229, 'consumers': 230, 'safety': 231, 'people': 232, 'news': 233, 'commercialization': 234, 'goldenrice': 235, 'crisis': 236, 'threatens': 237, 'animals': 238, 'one': 239, 'them': 240, 'nongmoreport': 241, 'health…': 242, 'environment': 243, '3': 244, 'don’t': 245, 'based': 246, 'another': 247, 'prevent': 248, 'pests': 249, \"it's\": 250, 'been': 251, 'technology': 252, 'talk': 253, 'bans': 254, 'fda’s': 255, '“feed': 256, 'mind”': 257, 'scientists': 258, 'factory': 259, 'farming': 260, 'n': 261, 'animal': 262, 'operations': 263, 'account': 264, 'very': 265, 'percentage': 266, 'most': 267, 'kids': 268, 'cancer': 269, 'tomwakeford': 270, 'ultra': 271, 'darwinist': 272, 'extremism': 273, 'dawkins': 274, 'growing': 275, 'fan': 276, 'base': 277, 'among': 278, 'zoologists': 279, 'cambridge': 280, 'tom': 281, 'healthcare': 282, 'system': 283, 'multiple': 284, 'federal': 285, 'agencies': 286, 'sure': 287, 'watch': 288, 'here': 289, 'ntov6tlwl6': 290, 'epa': 291, 'r…': 292, 'org': 293, 'exacerb…': 294, 'panasiapacific': 295, 'mfm7qlvqnk': 296, 'ylri3fohtr': 297, 'education': 298, 'over': 299, 'so': 300, 'some': 301, 'getting': 302, 'avoid': 303, 'did': 304, 'check': 305, 'usda': 306, 'or': 307, 'nature': 308, 'supply': 309, 'am': 310, 'pleased': 311, 'announce': 312, 'educational': 313, 'big': 314, 'glyphosate': 315, 'engineered': 316, 'salmon': 317, 'being': 318, 'of…': 319, 'bookclub': 320, 'telling': 321, 'sugar': 322, 'advice': 323, 'evaluate': 324, 'gm': 325, 'swj5nad41b': 326, 'misinformation': 327, 'dicamba': 328, \"monsanto's\": 329, 'weaponofmassdestruction': 330, 'taking': 331, 'drift': 332, 'see…': 333, 'worldwide': 334, 'shortage': 335, 'prompted': 336, 'q0wl2…': 337, 'crispr': 338, 'below': 339, '1cux8ys…': 340, 'act': 341, 'statem…': 342, 'used': 343, 'humans': 344, 'affirms': 345, 'bk1oqddzso': 346, 'seeds': 347, 'control': 348, 'processed': 349, 'put': 350, 'death': 351, 'great': 352, 'p…': 353, 'where': 354, 'labs': 355, 'ars': 356, 'plum': 357, 'variety': 358, 'altered': 359, 'rnai': 360, 'gmofreeusa': 361, \"what's\": 362, 'verdict': 363, 'decade': 364, 'half': 365, \"gates'\": 366, 'alliance': 367, 'revolution': 368, 'africa': 369, 'agra': 370, 'nothin…': 371, 'novamarkbutler': 372, 'protection': 373, 'everything': 374, 'thoughts': 375, 'scotland': 376, 'gives': 377, 'middle': 378, 'finger': 379, \"monsantoco's\": 380, 'scottish': 381, 'born': 382, 'ceo': 383, 'hugh': 384, 'grant': 385, '12wtd1obzw': 386, 'should': 387, 'drmaynefdafood': 388, 'see': 389, 'journey': 390, 'german': 391, 'agency': 392, 'urine': 393, 'c4kn76l558': 394, 'newplantvarieties': 395, 'eating': 396, 'states': 397, 'up': 398, 'city': 399, 'champs': 400, 'inglewood': 401, 'ca': 402, 'inglesdietitian': 403, 'trade': 404, 'again': 405, 'academies': 406, 'harmful': 407, 'n8ohdgmsv9': 408, 'eat': 409, 'years': 410, 'newsletter': 411, '286': 412, 'tentatively': 413, 'optimistic': 414, 'facebook': 415, 'super': 416, 'productive': 417, 'rice': 418, 'rome': 419, 'fell': 420, 'leve…': 421, 'ugandabic': 422, 'wa…': 423, 'scientific': 424, 'help': 425, 'create': 426, 'want': 427, 'feed': 428, 'substances': 429, 'non': 430, 'agripulse': 431, 'their': 432, 'heard': 433, 'must': 434, 'deregulate': 435, \"world's\": 436, 'biggest': 437, 'corporations': 438, 'cut': 439, 'u…': 440, '6': 441, 'uk': 442, '😱': 443, 'an': 444, 'making': 445, 'its': 446, 'way': 447, 'stop': 448, '🙏': 449, 'allergies': 450, 'funny': 451, 'experts': 452, '“rebound”': 453, 'unhealthier': 454, 'ever': 455, 'patents': 456, 'monsantoco': 457, 'healthy': 458, 'diet': 459, 'ways': 460, \"gmo's\": 461, 'plus': 462, 'drinking': 463, 'water': 464, 'video': 465, '—': 466, 'extra': 467, 'gene': 468, 'lab': 469, 'take': 470, 'look': 471, 'data': 472, '80': 473, 'contain': 474, 'tvxwju4fak': 475, 'addit…': 476, 'chemical': 477, 'care': 478, 'prevents': 479, \"there's\": 480, 'nation': 481, 'destroys': 482, 'reason': 483, 'bacillus': 484, 'thuringiensis': 485, 'cry1ac': 486, 'protoxin': 487, 'potent': 488, 'systemic': 489, 'mucosal': 490, 'adjuvant': 491, 'vruvibclzc': 492, 'pubmed': 493, 'pebble': 494, 'environmental': 495, 'salt': 496, 'african': 497, 'governments': 498, 'ponder': 499, 'fate': 500, 'prominent': 501, 'leaders': 502, 'across': 503, 'continent': 504, 'openly': 505, 'expressed': 506, 'resurgence': 507, 'empire': 508, 'gods': 509, 'otherwise': 510, 'known': 511, 'annunaki': 512, 'fallen': 513, 'angels': 514, 'shining': 515, 'ones': 516, 'elohim': 517, '2zk4ytfx9y': 518, 'nffttq1ggx': 519, 'get': 520, 'geneticengineering': 521, 'organisms': 522, 'play': 523, 'role': 524, 'agriculture': 525, 'partnership': 526, 'climatechange': 527, 'increase': 528, 'argentina': 529, '000': 530, 'ban': 531, '📽️check': 532, \"cpvo's\": 533, 'latest': 534, 'webinars': 535, 'topics': 536, 'dna': 537, 'hi': 538, 'crew': 539, 'cbcpei': 540, 'still': 541, 'pei': 542, 'sold': 543, 'who’s': 544, 's4mbdfl6kr': 545, 'if': 546, 'repost': 547, '49erfaithfulgoldblooded': 548, 'thnx': 549, 'many': 550, 'ai': 551, 'crop': 552, 'biodiversity': 553, 'research': 554, 'claim': 555, 'belonging': 556, 'start': 557, '25': 558, '00': 559, 'xbrblyhpqz': 560, 'gmoevidence': 561, 'launch': 562, 'billion': 563, 'dollar': 564, 'legal': 565, 'actions': 566, 'export': 567, 'scandal': 568, 'http': 569, 'hhekjtggfb': 570, 'gmc…': 571, 'debunkdenialism': 572, 'opressing': 573, 'vaxlkh9jh7': 574, 'ge': 575, 'until': 576, 'jomtien': 577, 'pattaya': 578, 'beach': 579, 'open': 580, 'jrsvl4qnii': 581, 'thailandnews': 582, 'worldnews': 583, 'th…': 584, 'tech': 585, 'things': 586, '10': 587, 'best': 588, 'usa': 589, 'single': 590, 'case': 591, 'every': 592, 'importantnotimp': 593, 'sham…': 594, 'year': 595, 'jandtcontent': 596, 'choice': 597, '2022': 598, 'saturated': 599, 'ecocide': 600, 'crime': 601, 'bangmos': 602, 'climatejustice': 603, 'jameslovelock': 604, 'originator': 605, 'lynnmargulis': 606, 'gaia': 607, 'nitrogen': 608, 'q0wl2agyao': 609, 'vdon7zdnoa': 610, 'message': 611, 'mainstream': 612, 'security': 613, 'communities': 614, 'seems': 615, 'clear': 616, 'optimal': 617, 'far': 618, 'simply': 619, 'rybutaweal': 620, 'epachemsafety': 621, 'lizard': 622, 'hypnotising': 623, 'fox': 624, 'viewers': 625, 'church': 626, 'satan': 627, 'prove': 628, 'flat': 629, 'earth': 630, 'theory': 631, '1cux8yshgk': 632, 'types': 633, 'zyegjgfvt2': 634, 'lcrfqsfts1': 635, 'preserving': 636, 'sustaining': 637, 'advancing': 638, 'traditional': 639, 'farmers’': 640, 'wisdom': 641, 'developing': 642, 'multiplying': 643, 'freely': 644, 'sharing': 645, 'fighting': 646, 'lands': 647, 'resources': 648, 'remain': 649, 'core': 650, \"farmers'\": 651, 'struggle': 652, 'corporate': 653, 'ag': 654, 'nsw9rv31tt': 655, 'laws': 656, 'threaten': 657, 'alarming': 658, 'piece': 659, 'draft': 660, 'legislation': 661, 'parliament': 662, 'puts': 663, 'serious': 664, 'risk': 665, '🤯': 666, 'further': 667, 'info': 668, '👇': 669, 'newgmos': 670, 'ymwbrw6sgx': 671, 'fxythcbaaq': 672, '5': 673, 'njhjq33vaf': 674, 'e4udovfytf': 675, 'sffv7bqdqr': 676, 'tiduscfk7o': 677, '1pe5pvsgg6': 678, 'exacerbate': 679, 'inequality': 680, 'loss': 681, 'people’s': 682, 'sovereignty': 683, '1lgmon8uav': 684, 'masipagfarmers': 685, 'pcfsglobal': 686, 'agcconnect': 687, 'consumerunionjp': 688, 'fw77qpe0fl': 689, 'hywkvx4duy': 690, 'realrebelwisdom': 691, 'we’ve…': 692, 'we’ve': 693, 'been—thanks': 694, 'lockdowns': 695, 'air': 696, 'pollution': 697, 'emfs': 698, 'bigpharma': 699, 'household': 700, 'roundup': 701, 'you’re': 702, 'welcome': 703, 'signal': 704, 'end': 705, 'rlyl0bmzep': 706, 'tyoqzxaexv': 707, 'choosing': 708, 'habit': 709, 'which': 710, 'ngnwfkklox': 711, 'nongmofoods': 712, 'organics': 713, 'healthyfoods': 714, 'healthydiethabit': 715, 'healthydiet': 716, 'healthyeating': 717, 'healthyfood': 718, '9088xzzn6n': 719, 'hpn2wh8pqx': 720, 'qzzrwumarh': 721, 'nsa': 722, 'robbing': 723, 'patriots': 724, 'mossad': 725, 'sterilants': 726, 'exclusive': 727, 'unveils': 728, 'obama’s': 729, 'promises': 730, 'agribusiness': 731, 'medium': 732, 'bdyodexz9z': 733, 'synthetic': 734, 'biology': 735, 'edited': 736, 'intensifies': 737, 'harm': 738, 'planet': 739, 'factories': 740, 'biohazards': 741, 'biowaste': 742, 'ur8kjdxvxn': 743, 'moment': 744, '1sod4zbijt': 745, \"they're\": 746, 'pending': 747, 'millions': 748, 'dark': 749, 'nat': 750, 'geo': 751, 'exposure': 752, 'linked': 753, 'billions': 754, 'costs': 755, '3zupeekosm': 756, 'sr4aqzgwns': 757, 'libel': 758, 'lies': 759, '–': 760, 'license': 761, 'troll': 762, '4iysab81d0': 763, 'via': 764, 'qqhozmkju4': 765, 'soils': 766, 'itself': 767, 'si6fjkzh7w': 768, 'destroy': 769, 'soil': 770, 'gut': 771, 'zu12ylojlj': 772, 'just': 773, 'useless': 774, 'reject': 775, 'interviews': 776, 'trying': 777, 'understand': 778, 'maybe': 779, 'bitter': 780, 'heads': 781, 'undesirable': 782, 'sciencecommunication': 783, 'scicommmatters': 784, 'lfnmh2nvst': 785, 'ifoamorganic': 786, 'we’re': 787, 'honoured': 788, 'received': 789, 'amira': 790, 'mohamed': 791, 'ali': 792, 'karl': 793, 'bär': 794, 'harald': 795, 'ebner': 796, 'biofach': 797, 'booth': 798, '🗣we': 799, 'exchanged': 800, 'im…': 801, 'eu🇪🇺commission': 802, 'wants': 803, 'checking': 804, 'labelling': 805, 'properly': 806, 'labelled': 807, 'food🍎🌽🥕…': 808, 'marina35690107': 809, 'ctvnews': 810, 'etc': 811, 'tryvegan': 812, 'nktqlcy90d': 813, 'u9j49y2ppd': 814, 'fdaraid': 815, 'rawfood': 816, 'vhpm3inzqv': 817, 'canadian': 818, 'cepa': 819, 'regulates': 820, 'plastics': 821, 'road': 822, 'engineer…': 823, 'ed': 824, 'initiative': 825, 'bioengineered': 826, 'detectable': 827, 'material': 828, 'certain': 829, 'techniques': 830, 'cannot': 831, 'conventional': 832, 'found': 833, 'cosmetic': 834, 'ingreds': 835, 'skmrnpbtpp': 836, 'cezyqxuhhx': 837, 'scienceally': 838, 'for…': 839, 'pope': 840, 'francis': 841, 'speaks': 842, 'damages': 843, 'caused': 844, 'dvarlxgw1v': 845, 'town': 846, 'mobilized': 847, 'academics': 848, 'pen': 849, 'articles': 850, 'supporting': 851, 'bbgtrl2gdw': 852, 'risetoflyy': 853, 'many…': 854, 'prnhealth': 855, 'omg': 856, 'realize': 857, 'pervasive': 858, 'omgs': 859, 'labeled': 860, 'putting': 861, 'bodies': 862, 'really': 863, 'q4pevx2qcl': 864, 'pnvk5fy2tt': 865, 'facts': 866, 'q0wl2ayzyy': 867, 'c7y6g7ixpo': 868, 'protect': 869, 'pathogen': 870, '5qindlhxfw': 871, 'e9qbt5otsl': 872, 'crucial': 873, 'story': 874, 'representative': 875, 'between': 876, 'could': 877, 'addressing': 878, 'foodinsecurity': 879, 'tjbp5coynw': 880, 'pleasure': 881, 'collaborate': 882, 'eatright': 883, 'continuing': 884, 'program': 885, 'registered': 886, 'dietitians': 887, 'informative': 888, 'ovatnu3yt4': 889, '6opvr9fwfd': 890, 'nsi4vuyk53': 891, 'developed': 892, 'epagov': 893, 'understanding': 894, 'educators': 895, 'zzlvyw9ikt': 896, '59ogulp9cg': 897, '3rd': 898, 'largest': 899, 'grower': 900, '30': 901, 'doctors': 902, 'demanding': 903, 'ryttqomhsu': 904, 'cpvotweets': 905, 'plan…': 906, 'tell': 907, 'quit': 908, 'selling': 909, 'corporategreed': 910, 'concerned': 911, 'bacteria': 912, 'rather': 913, 'altering': 914, 'rise': 915, 'cancers': 916, 'because': 917, 'approved': 918, 'a1uzey6deh': 919, 'vyjxbroowe': 920, 'genengnetwork': 921, 'renormalization': 922, 'group': 923, 'version': 924, 'r': 925, 'doomed': 926, 'economically': 927, 'tiny': 928, 'fraction': 929, 'kashrut': 930, 'e': 931, 'stubborn': 932, 'dmdyml5ioe': 933, 'fucked': 934, 'today’s': 935, 'society': 936, 'literally': 937, 'vegans': 938, 'cannibals': 939, 'getoutofyourhead': 940, 'getintogod': 941, 'xfv93u3rmb': 942, 'face': 943, 'innocent': 944, 'billgatesbioterrorist': 945, 'epsteinclientlist': 946, 'billgates': 947, 'quitindia': 948, 'gmosafrica': 949, 'xiu9vxpmos': 950, 'canada': 951, 'brazil': 952, 'agreements': 953, 'pressure': 954, 'follow': 955, 'suit': 956, '4o5ucnxakg': 957, 'names': 958, 'lecture': 959, 'timothy': 960, 'alberino': 961, 'concerning': 962, 'prophetic': 963, 'poem': 964, 'written': 965, 'virgil': 966, 'roman': 967, 'poet': 968, '40bc': 969, 'transhumans': 970, 'synths': 971, 'hybrids': 972, 'or2togvpsr': 973, 'ec': 974, 'lld': 975, '😁': 976, 'within': 977, 'issue': 978, 'focus': 979, 'shared': 980, 'newsletters': 981, 'ifoam': 982, 'save': 983, 'apbrebes': 984, 'highlighted': 985, 'ecvc': 986, 'npos': 987, 'active': 988, 'petitions': 989, 'agrobiodiversity': 990, '🔖': 991, 'px61zx7xem': 992, 'wi3ogriqbn': 993, 'greenhouse': 994, 'gas': 995, 'emissions': 996, '2pi0mzcfpa…': 997, 'qdzrfbiqqs': 998, 'time': 999, 'digging': 1000, 'jwaynecbc': 1001, 'laurachapin1': 1002, 'louisemartincbc': 1003, 'kerrywcampbell': 1004, 'frturfx61m': 1005, 'headlines': 1006, 'w': 1007, 'clgood': 1008, 'job': 1009, 'small': 1010, 'book': 1011, 'referencing': 1012, 'sciencebasedmed': 1013, 'angry': 1014, 'chef': 1015, 'thescibabe': 1016, 'hhskepdoc': 1017, 'stvmyckvcj': 1018, 'ab01e8itao': 1019, 'xwykcz19tg': 1020, 'vxpggs37um': 1021, 'bulgaria': 1022, '14': 1023, 'nations': 1024, 'regions': 1025, 'shown': 1026, 'irrelevance': 1027, 'present': 1028, '02wmzi12gk…': 1029, 'cdn': 1030, 'govt': 1031, 'doesn’t': 1032, 'require': 1033, 'label…': 1034, 'insect': 1035, 'aliens': 1036, 'alien': 1037, 'abductions': 1038, 'flouride': 1039, 'basics': 1040, 'tips': 1041, 'parallels': 1042, 'eg': 1043, 'indigenous': 1044, 'who': 1045, 'deep': 1046, 'cultural': 1047, 'spiritual': 1048, 'connections': 1049, 'meat': 1050, 'acceptable': 1051, 'indigenousfood': 1052, 'foodsovereignty': 1053, 'cellularagriculture': 1054, 'pyywscjp4h': 1055, 'plant': 1056, 'varieties': 1057, 'much': 1058, 'ayiujzluxh': 1059, 'ttu5phsndk': 1060, 'took': 1061, '3czt6tm9d1': 1062, 'roberttaiwan': 1063, 'thailand': 1064, 'disney': 1065, 'factcheck': 1066, 'monkeypox': 1067, 'jetsons': 1068, 'lolitaexpress': 1069, 'westtaiwan': 1070, 'pelosi': 1071, 'taiwan': 1072, 'tigers': 1073, 'globalwarming': 1074, 'russiangas': 1075, 'tsmc': 1076, 'almost': 1077, 'finished': 1078, 'shooting': 1079, 'videos': 1080, 'explaining': 1081, 'ass': 1082, 'backwards': 1083, 'i’m': 1084, 'nervous': 1085, 'ibs': 1086, 'digestion': 1087, 'fasting': 1088, 'preventions': 1089, 'sideeffects': 1090, 'supplements': 1091, 'entirely': 1092, 'questions': 1093, 'regarding': 1094, 'diets': 1095, 'weightloss': 1096, 'ppl': 1097, 'och4lci3cv': 1098, 'mr6ehhaxc9': 1099, 'humanhealth': 1100, 'harmfulfoods': 1101, 'eatsmart': 1102, 'herbicidesandpesticides': 1103, 'productlabeling': 1104, 'q1dt4rdcj9': 1105, 'something': 1106, 'approaching': 1107, 'shibboleth': 1108, 'comes': 1109, 'example': 1110, 'movement': 1111, '15': 1112, 'illness': 1113, 'europe': 1114, 'knows': 1115, \"don't\": 1116, 'iaivm9zj7t': 1117, 'ihealthtube': 1118, 'toxins': 1119, 'naturalhealth': 1120, 'oqtfsyesor': 1121, 'hand': 1122, 'too': 1123, 'doubt': 1124, 'recall': 1125, 'appalling': 1126, 'defra': 1127, 'rubber': 1128, 'stamp': 1129, 'industry': 1130, 'lobby': 1131, 'came': 1132, 'asking': 1133, '2jzinxafec': 1134, 'mthrearthliving': 1135, 'pqqmgxxxc3': 1136, 'vqxuu6fuoq': 1137, 'regulated': 1138, 'accordingly🧬🌽this': 1139, 'takes': 1140, 'closer': 1141, 'debates🧐': 1142, 'llyhxh1u85': 1143, 'kgq1ltjezp': 1144, 'sham': 1145, 'results': 1146, \"alzheimer's\": 1147, 'figured': 1148, 'protein': 1149, 'structure': 1150, 'subscribe': 1151, 'alzheimers': 1152, 'deepmind': 1153, 'ht95xy2cxg': 1154, 'satanists': 1155, 'sheeple': 1156, 'holograms': 1157, 'blow': 1158, 'mt': 1159, 'rushmore': 1160, 'evelynrae': 1161, 'fructose': 1162, 'syrup': 1163, '82': 1164, 'unregulated': 1165, 'back': 1166, 'then': 1167, 'hfcs': 1168, 'introduced': 1169, '70’s': 1170, '80’s': 1171, 'load': 1172, 'expanded': 1173, 'got': 1174, 'handful': 1175, 'vaccines': 1176, '72': 1177, 'doses': 1178, 'they’re': 1179, 'nowadays': 1180, 'according': 1181, 'u': 1182, 's': 1183, 'department': 1184, 'biofuels': 1185, 'coxwzgss1u': 1186, '9fvccbnoom': 1187, 'infogm': 1188, 'institution': 1189, 'defined': 1190, 'micro': 1191, 'organism': 1192, '“composition': 1193, 'matter”': 1194, 'opening': 1195, 'field': 1196, 'patentability': 1197, 'living': 1198, 'matte…': 1199, 'gay': 1200, 'manatees': 1201, 'devouring': 1202, 'americans': 1203, 'earthquakes': 1204, 'summon': 1205, 'ghost': 1206, 'jfk': 1207, 'wulf': 1208, 'hemp': 1209, 'seed': 1210, 'level': 1211, 'biotech': 1212, 'gates': 1213, 'farmland': 1214, '0typtcztwd': 1215, 'ez67ihr9pk': 1216, '‘too': 1217, 'fail’': 1218, 'kmmhltrizd': 1219, '98mp2pnozn': 1220, 'ls99aqjxvm': 1221, 'survey': 1222, 'france': 1223, '•91': 1224, 'french': 1225, 'retailers': 1226, 'transparent': 1227, 'clearly': 1228, 'presence': 1229, 'genetics': 1230, 'datamodeling': 1231, 'pollen': 1232, 'airquality': 1233, 'nuclearban': 1234, 'foodnetwork': 1235, 'seen': 1236, \"thatcher's\": 1237, 'vision': 1238, 'privatised': 1239, 'complex': 1240, 'revitalising': 1241, 'nukes': 1242, 'service': 1243, 'brave': 1244, 'capitalist': 1245, 'promoted': 1246, 'justicetours': 1247, 'hy…': 1248, 'hypothesis': 1249, 'following': 1250, 'jonathanwatts': 1251, 'guardianeco': 1252, 'gaiahypothesis': 1253, 'symbiogenesis': 1254, 'geoengineering': 1255, 'guardian': 1256, 'j6co8sx7dn': 1257, '44': 1258, 'gxwhbvoljp': 1259, 'top': 1260, 'myths': 1261, 'qo4lag7sbh': 1262, 'enhance': 1263, 'editing': 1264, 'cas9': 1265, 'grains': 1266, 'per': 1267, 'spike': 1268, 'oat2jgj7e2': 1269, 'reduce': 1270, 'while': 1271, 'maintaining': 1272, 'yields': 1273, 'dutch': 1274, 'government': 1275, 'currently': 1276, 'forcing': 1277, 'fertilizers': 1278, 'superior': 1279, 'efficiency': 1280, 'lmt9w8dzcc': 1281, 'ckkav4gdqy': 1282}\n",
      "1283\n"
     ]
    }
   ],
   "source": [
    "tokenizer = Tokenizer()\n",
    "corpus = text.lower().split(\"\\n\")\n",
    "tokenizer.fit_on_texts(corpus)\n",
    "total_words = len(tokenizer.word_index) + 1\n",
    "print(tokenizer.word_index)\n",
    "print(total_words)\n",
    "input_sequences = []\n",
    "for line in corpus:\n",
    "    token_list = tokenizer.texts_to_sequences([line])[0]\n",
    "    for i in range(1, len(token_list)):\n",
    "        n_gram_sequence = token_list[:i+1]\n",
    "        input_sequences.append(n_gram_sequence)"
   ]
  },
  {
   "cell_type": "code",
   "execution_count": 19,
   "metadata": {},
   "outputs": [],
   "source": [
    "# pad sequences\n",
    "max_sequence_len = max([len(x) for x in input_sequences])\n",
    "input_sequences = np.array(pad_sequences(input_sequences, maxlen=max_sequence_len, padding='pre'))"
   ]
  },
  {
   "cell_type": "code",
   "execution_count": 20,
   "metadata": {},
   "outputs": [],
   "source": [
    "# create predictors and label\n",
    "xs, labels = input_sequences[:,:-1],input_sequences[:,-1]\n",
    "ys = tf.keras.utils.to_categorical(labels, num_classes=total_words)"
   ]
  },
  {
   "cell_type": "code",
   "execution_count": 21,
   "metadata": {},
   "outputs": [
    {
     "name": "stdout",
     "output_type": "stream",
     "text": [
      "Epoch 1/100\n"
     ]
    },
    {
     "name": "stderr",
     "output_type": "stream",
     "text": [
      "/Library/Frameworks/Python.framework/Versions/3.10/lib/python3.10/site-packages/keras/optimizers/optimizer_v2/adam.py:110: UserWarning: The `lr` argument is deprecated, use `learning_rate` instead.\n",
      "  super(Adam, self).__init__(name, **kwargs)\n"
     ]
    },
    {
     "name": "stdout",
     "output_type": "stream",
     "text": [
      "  4/293 [..............................] - ETA: 8:37 - loss: 6.8526 - accuracy: 0.0234    "
     ]
    },
    {
     "ename": "KeyboardInterrupt",
     "evalue": "",
     "output_type": "error",
     "traceback": [
      "\u001b[0;31m---------------------------------------------------------------------------\u001b[0m",
      "\u001b[0;31mKeyboardInterrupt\u001b[0m                         Traceback (most recent call last)",
      "\u001b[1;32m/Users/sudharsangopalakrishnan/GMO-Analysis-With-Deep-Learning/gmo_analysis.ipynb Cell 24\u001b[0m in \u001b[0;36m<module>\u001b[0;34m\u001b[0m\n\u001b[1;32m      <a href='vscode-notebook-cell:/Users/sudharsangopalakrishnan/GMO-Analysis-With-Deep-Learning/gmo_analysis.ipynb#X32sZmlsZQ%3D%3D?line=6'>7</a>\u001b[0m model\u001b[39m.\u001b[39mcompile(loss\u001b[39m=\u001b[39m\u001b[39m'\u001b[39m\u001b[39mcategorical_crossentropy\u001b[39m\u001b[39m'\u001b[39m, optimizer\u001b[39m=\u001b[39madam, metrics\u001b[39m=\u001b[39m[\u001b[39m'\u001b[39m\u001b[39maccuracy\u001b[39m\u001b[39m'\u001b[39m])\n\u001b[1;32m      <a href='vscode-notebook-cell:/Users/sudharsangopalakrishnan/GMO-Analysis-With-Deep-Learning/gmo_analysis.ipynb#X32sZmlsZQ%3D%3D?line=7'>8</a>\u001b[0m \u001b[39m#earlystop = EarlyStopping(monitor='val_loss', min_delta=0, patience=5, verbose=0, mode='auto')\u001b[39;00m\n\u001b[0;32m----> <a href='vscode-notebook-cell:/Users/sudharsangopalakrishnan/GMO-Analysis-With-Deep-Learning/gmo_analysis.ipynb#X32sZmlsZQ%3D%3D?line=8'>9</a>\u001b[0m history \u001b[39m=\u001b[39m model\u001b[39m.\u001b[39;49mfit(xs, ys, epochs\u001b[39m=\u001b[39;49m\u001b[39m100\u001b[39;49m, verbose\u001b[39m=\u001b[39;49m\u001b[39m1\u001b[39;49m)\n\u001b[1;32m     <a href='vscode-notebook-cell:/Users/sudharsangopalakrishnan/GMO-Analysis-With-Deep-Learning/gmo_analysis.ipynb#X32sZmlsZQ%3D%3D?line=9'>10</a>\u001b[0m \u001b[39m#print model.summary()\u001b[39;00m\n\u001b[1;32m     <a href='vscode-notebook-cell:/Users/sudharsangopalakrishnan/GMO-Analysis-With-Deep-Learning/gmo_analysis.ipynb#X32sZmlsZQ%3D%3D?line=10'>11</a>\u001b[0m \u001b[39mprint\u001b[39m(model)\n",
      "File \u001b[0;32m/Library/Frameworks/Python.framework/Versions/3.10/lib/python3.10/site-packages/keras/utils/traceback_utils.py:64\u001b[0m, in \u001b[0;36mfilter_traceback.<locals>.error_handler\u001b[0;34m(*args, **kwargs)\u001b[0m\n\u001b[1;32m     62\u001b[0m filtered_tb \u001b[39m=\u001b[39m \u001b[39mNone\u001b[39;00m\n\u001b[1;32m     63\u001b[0m \u001b[39mtry\u001b[39;00m:\n\u001b[0;32m---> 64\u001b[0m   \u001b[39mreturn\u001b[39;00m fn(\u001b[39m*\u001b[39;49margs, \u001b[39m*\u001b[39;49m\u001b[39m*\u001b[39;49mkwargs)\n\u001b[1;32m     65\u001b[0m \u001b[39mexcept\u001b[39;00m \u001b[39mException\u001b[39;00m \u001b[39mas\u001b[39;00m e:  \u001b[39m# pylint: disable=broad-except\u001b[39;00m\n\u001b[1;32m     66\u001b[0m   filtered_tb \u001b[39m=\u001b[39m _process_traceback_frames(e\u001b[39m.\u001b[39m__traceback__)\n",
      "File \u001b[0;32m/Library/Frameworks/Python.framework/Versions/3.10/lib/python3.10/site-packages/keras/engine/training.py:1409\u001b[0m, in \u001b[0;36mModel.fit\u001b[0;34m(self, x, y, batch_size, epochs, verbose, callbacks, validation_split, validation_data, shuffle, class_weight, sample_weight, initial_epoch, steps_per_epoch, validation_steps, validation_batch_size, validation_freq, max_queue_size, workers, use_multiprocessing)\u001b[0m\n\u001b[1;32m   1402\u001b[0m \u001b[39mwith\u001b[39;00m tf\u001b[39m.\u001b[39mprofiler\u001b[39m.\u001b[39mexperimental\u001b[39m.\u001b[39mTrace(\n\u001b[1;32m   1403\u001b[0m     \u001b[39m'\u001b[39m\u001b[39mtrain\u001b[39m\u001b[39m'\u001b[39m,\n\u001b[1;32m   1404\u001b[0m     epoch_num\u001b[39m=\u001b[39mepoch,\n\u001b[1;32m   1405\u001b[0m     step_num\u001b[39m=\u001b[39mstep,\n\u001b[1;32m   1406\u001b[0m     batch_size\u001b[39m=\u001b[39mbatch_size,\n\u001b[1;32m   1407\u001b[0m     _r\u001b[39m=\u001b[39m\u001b[39m1\u001b[39m):\n\u001b[1;32m   1408\u001b[0m   callbacks\u001b[39m.\u001b[39mon_train_batch_begin(step)\n\u001b[0;32m-> 1409\u001b[0m   tmp_logs \u001b[39m=\u001b[39m \u001b[39mself\u001b[39;49m\u001b[39m.\u001b[39;49mtrain_function(iterator)\n\u001b[1;32m   1410\u001b[0m   \u001b[39mif\u001b[39;00m data_handler\u001b[39m.\u001b[39mshould_sync:\n\u001b[1;32m   1411\u001b[0m     context\u001b[39m.\u001b[39masync_wait()\n",
      "File \u001b[0;32m/Library/Frameworks/Python.framework/Versions/3.10/lib/python3.10/site-packages/tensorflow/python/util/traceback_utils.py:150\u001b[0m, in \u001b[0;36mfilter_traceback.<locals>.error_handler\u001b[0;34m(*args, **kwargs)\u001b[0m\n\u001b[1;32m    148\u001b[0m filtered_tb \u001b[39m=\u001b[39m \u001b[39mNone\u001b[39;00m\n\u001b[1;32m    149\u001b[0m \u001b[39mtry\u001b[39;00m:\n\u001b[0;32m--> 150\u001b[0m   \u001b[39mreturn\u001b[39;00m fn(\u001b[39m*\u001b[39;49margs, \u001b[39m*\u001b[39;49m\u001b[39m*\u001b[39;49mkwargs)\n\u001b[1;32m    151\u001b[0m \u001b[39mexcept\u001b[39;00m \u001b[39mException\u001b[39;00m \u001b[39mas\u001b[39;00m e:\n\u001b[1;32m    152\u001b[0m   filtered_tb \u001b[39m=\u001b[39m _process_traceback_frames(e\u001b[39m.\u001b[39m__traceback__)\n",
      "File \u001b[0;32m/Library/Frameworks/Python.framework/Versions/3.10/lib/python3.10/site-packages/tensorflow/python/eager/def_function.py:915\u001b[0m, in \u001b[0;36mFunction.__call__\u001b[0;34m(self, *args, **kwds)\u001b[0m\n\u001b[1;32m    912\u001b[0m compiler \u001b[39m=\u001b[39m \u001b[39m\"\u001b[39m\u001b[39mxla\u001b[39m\u001b[39m\"\u001b[39m \u001b[39mif\u001b[39;00m \u001b[39mself\u001b[39m\u001b[39m.\u001b[39m_jit_compile \u001b[39melse\u001b[39;00m \u001b[39m\"\u001b[39m\u001b[39mnonXla\u001b[39m\u001b[39m\"\u001b[39m\n\u001b[1;32m    914\u001b[0m \u001b[39mwith\u001b[39;00m OptionalXlaContext(\u001b[39mself\u001b[39m\u001b[39m.\u001b[39m_jit_compile):\n\u001b[0;32m--> 915\u001b[0m   result \u001b[39m=\u001b[39m \u001b[39mself\u001b[39;49m\u001b[39m.\u001b[39;49m_call(\u001b[39m*\u001b[39;49margs, \u001b[39m*\u001b[39;49m\u001b[39m*\u001b[39;49mkwds)\n\u001b[1;32m    917\u001b[0m new_tracing_count \u001b[39m=\u001b[39m \u001b[39mself\u001b[39m\u001b[39m.\u001b[39mexperimental_get_tracing_count()\n\u001b[1;32m    918\u001b[0m without_tracing \u001b[39m=\u001b[39m (tracing_count \u001b[39m==\u001b[39m new_tracing_count)\n",
      "File \u001b[0;32m/Library/Frameworks/Python.framework/Versions/3.10/lib/python3.10/site-packages/tensorflow/python/eager/def_function.py:947\u001b[0m, in \u001b[0;36mFunction._call\u001b[0;34m(self, *args, **kwds)\u001b[0m\n\u001b[1;32m    944\u001b[0m   \u001b[39mself\u001b[39m\u001b[39m.\u001b[39m_lock\u001b[39m.\u001b[39mrelease()\n\u001b[1;32m    945\u001b[0m   \u001b[39m# In this case we have created variables on the first call, so we run the\u001b[39;00m\n\u001b[1;32m    946\u001b[0m   \u001b[39m# defunned version which is guaranteed to never create variables.\u001b[39;00m\n\u001b[0;32m--> 947\u001b[0m   \u001b[39mreturn\u001b[39;00m \u001b[39mself\u001b[39;49m\u001b[39m.\u001b[39;49m_stateless_fn(\u001b[39m*\u001b[39;49margs, \u001b[39m*\u001b[39;49m\u001b[39m*\u001b[39;49mkwds)  \u001b[39m# pylint: disable=not-callable\u001b[39;00m\n\u001b[1;32m    948\u001b[0m \u001b[39melif\u001b[39;00m \u001b[39mself\u001b[39m\u001b[39m.\u001b[39m_stateful_fn \u001b[39mis\u001b[39;00m \u001b[39mnot\u001b[39;00m \u001b[39mNone\u001b[39;00m:\n\u001b[1;32m    949\u001b[0m   \u001b[39m# Release the lock early so that multiple threads can perform the call\u001b[39;00m\n\u001b[1;32m    950\u001b[0m   \u001b[39m# in parallel.\u001b[39;00m\n\u001b[1;32m    951\u001b[0m   \u001b[39mself\u001b[39m\u001b[39m.\u001b[39m_lock\u001b[39m.\u001b[39mrelease()\n",
      "File \u001b[0;32m/Library/Frameworks/Python.framework/Versions/3.10/lib/python3.10/site-packages/tensorflow/python/eager/function.py:2453\u001b[0m, in \u001b[0;36mFunction.__call__\u001b[0;34m(self, *args, **kwargs)\u001b[0m\n\u001b[1;32m   2450\u001b[0m \u001b[39mwith\u001b[39;00m \u001b[39mself\u001b[39m\u001b[39m.\u001b[39m_lock:\n\u001b[1;32m   2451\u001b[0m   (graph_function,\n\u001b[1;32m   2452\u001b[0m    filtered_flat_args) \u001b[39m=\u001b[39m \u001b[39mself\u001b[39m\u001b[39m.\u001b[39m_maybe_define_function(args, kwargs)\n\u001b[0;32m-> 2453\u001b[0m \u001b[39mreturn\u001b[39;00m graph_function\u001b[39m.\u001b[39;49m_call_flat(\n\u001b[1;32m   2454\u001b[0m     filtered_flat_args, captured_inputs\u001b[39m=\u001b[39;49mgraph_function\u001b[39m.\u001b[39;49mcaptured_inputs)\n",
      "File \u001b[0;32m/Library/Frameworks/Python.framework/Versions/3.10/lib/python3.10/site-packages/tensorflow/python/eager/function.py:1860\u001b[0m, in \u001b[0;36mConcreteFunction._call_flat\u001b[0;34m(self, args, captured_inputs, cancellation_manager)\u001b[0m\n\u001b[1;32m   1856\u001b[0m possible_gradient_type \u001b[39m=\u001b[39m gradients_util\u001b[39m.\u001b[39mPossibleTapeGradientTypes(args)\n\u001b[1;32m   1857\u001b[0m \u001b[39mif\u001b[39;00m (possible_gradient_type \u001b[39m==\u001b[39m gradients_util\u001b[39m.\u001b[39mPOSSIBLE_GRADIENT_TYPES_NONE\n\u001b[1;32m   1858\u001b[0m     \u001b[39mand\u001b[39;00m executing_eagerly):\n\u001b[1;32m   1859\u001b[0m   \u001b[39m# No tape is watching; skip to running the function.\u001b[39;00m\n\u001b[0;32m-> 1860\u001b[0m   \u001b[39mreturn\u001b[39;00m \u001b[39mself\u001b[39m\u001b[39m.\u001b[39m_build_call_outputs(\u001b[39mself\u001b[39;49m\u001b[39m.\u001b[39;49m_inference_function\u001b[39m.\u001b[39;49mcall(\n\u001b[1;32m   1861\u001b[0m       ctx, args, cancellation_manager\u001b[39m=\u001b[39;49mcancellation_manager))\n\u001b[1;32m   1862\u001b[0m forward_backward \u001b[39m=\u001b[39m \u001b[39mself\u001b[39m\u001b[39m.\u001b[39m_select_forward_and_backward_functions(\n\u001b[1;32m   1863\u001b[0m     args,\n\u001b[1;32m   1864\u001b[0m     possible_gradient_type,\n\u001b[1;32m   1865\u001b[0m     executing_eagerly)\n\u001b[1;32m   1866\u001b[0m forward_function, args_with_tangents \u001b[39m=\u001b[39m forward_backward\u001b[39m.\u001b[39mforward()\n",
      "File \u001b[0;32m/Library/Frameworks/Python.framework/Versions/3.10/lib/python3.10/site-packages/tensorflow/python/eager/function.py:497\u001b[0m, in \u001b[0;36m_EagerDefinedFunction.call\u001b[0;34m(self, ctx, args, cancellation_manager)\u001b[0m\n\u001b[1;32m    495\u001b[0m \u001b[39mwith\u001b[39;00m _InterpolateFunctionError(\u001b[39mself\u001b[39m):\n\u001b[1;32m    496\u001b[0m   \u001b[39mif\u001b[39;00m cancellation_manager \u001b[39mis\u001b[39;00m \u001b[39mNone\u001b[39;00m:\n\u001b[0;32m--> 497\u001b[0m     outputs \u001b[39m=\u001b[39m execute\u001b[39m.\u001b[39;49mexecute(\n\u001b[1;32m    498\u001b[0m         \u001b[39mstr\u001b[39;49m(\u001b[39mself\u001b[39;49m\u001b[39m.\u001b[39;49msignature\u001b[39m.\u001b[39;49mname),\n\u001b[1;32m    499\u001b[0m         num_outputs\u001b[39m=\u001b[39;49m\u001b[39mself\u001b[39;49m\u001b[39m.\u001b[39;49m_num_outputs,\n\u001b[1;32m    500\u001b[0m         inputs\u001b[39m=\u001b[39;49margs,\n\u001b[1;32m    501\u001b[0m         attrs\u001b[39m=\u001b[39;49mattrs,\n\u001b[1;32m    502\u001b[0m         ctx\u001b[39m=\u001b[39;49mctx)\n\u001b[1;32m    503\u001b[0m   \u001b[39melse\u001b[39;00m:\n\u001b[1;32m    504\u001b[0m     outputs \u001b[39m=\u001b[39m execute\u001b[39m.\u001b[39mexecute_with_cancellation(\n\u001b[1;32m    505\u001b[0m         \u001b[39mstr\u001b[39m(\u001b[39mself\u001b[39m\u001b[39m.\u001b[39msignature\u001b[39m.\u001b[39mname),\n\u001b[1;32m    506\u001b[0m         num_outputs\u001b[39m=\u001b[39m\u001b[39mself\u001b[39m\u001b[39m.\u001b[39m_num_outputs,\n\u001b[0;32m   (...)\u001b[0m\n\u001b[1;32m    509\u001b[0m         ctx\u001b[39m=\u001b[39mctx,\n\u001b[1;32m    510\u001b[0m         cancellation_manager\u001b[39m=\u001b[39mcancellation_manager)\n",
      "File \u001b[0;32m/Library/Frameworks/Python.framework/Versions/3.10/lib/python3.10/site-packages/tensorflow/python/eager/execute.py:54\u001b[0m, in \u001b[0;36mquick_execute\u001b[0;34m(op_name, num_outputs, inputs, attrs, ctx, name)\u001b[0m\n\u001b[1;32m     52\u001b[0m \u001b[39mtry\u001b[39;00m:\n\u001b[1;32m     53\u001b[0m   ctx\u001b[39m.\u001b[39mensure_initialized()\n\u001b[0;32m---> 54\u001b[0m   tensors \u001b[39m=\u001b[39m pywrap_tfe\u001b[39m.\u001b[39;49mTFE_Py_Execute(ctx\u001b[39m.\u001b[39;49m_handle, device_name, op_name,\n\u001b[1;32m     55\u001b[0m                                       inputs, attrs, num_outputs)\n\u001b[1;32m     56\u001b[0m \u001b[39mexcept\u001b[39;00m core\u001b[39m.\u001b[39m_NotOkStatusException \u001b[39mas\u001b[39;00m e:\n\u001b[1;32m     57\u001b[0m   \u001b[39mif\u001b[39;00m name \u001b[39mis\u001b[39;00m \u001b[39mnot\u001b[39;00m \u001b[39mNone\u001b[39;00m:\n",
      "\u001b[0;31mKeyboardInterrupt\u001b[0m: "
     ]
    }
   ],
   "source": [
    "#Model build\n",
    "model = Sequential()\n",
    "model.add(Embedding(total_words, 100, input_length=max_sequence_len-1))\n",
    "model.add(Bidirectional(LSTM(150)))\n",
    "model.add(Dense(total_words, activation='softmax'))\n",
    "adam = Adam(lr=0.01)\n",
    "model.compile(loss='categorical_crossentropy', optimizer=adam, metrics=['accuracy'])\n",
    "#earlystop = EarlyStopping(monitor='val_loss', min_delta=0, patience=5, verbose=0, mode='auto')\n",
    "history = model.fit(xs, ys, epochs=100, verbose=1)\n",
    "#print model.summary()\n",
    "print(model)"
   ]
  },
  {
   "cell_type": "code",
   "execution_count": null,
   "metadata": {},
   "outputs": [],
   "source": [
    "seed_text = \"GMOs are\"\n",
    "next_words = 10\n",
    "#Prediction\n",
    "for _ in range(next_words):\n",
    "    token_list = tokenizer.texts_to_sequences([seed_text])[0]\n",
    "    token_list = pad_sequences([token_list], maxlen=max_sequence_len-1, padding='pre')\n",
    "    predicted = model.predict_classes(token_list, verbose=0)\n",
    "    output_word = \"\"\n",
    "    for word, index in tokenizer.word_index.items():\n",
    "        if index == predicted:\n",
    "            output_word = word\n",
    "            break\n",
    "seed_text += \" \" + output_word\n",
    "print(seed_text)"
   ]
  }
 ],
 "metadata": {
  "kernelspec": {
   "display_name": "Python 3.10.2 64-bit",
   "language": "python",
   "name": "python3"
  },
  "language_info": {
   "codemirror_mode": {
    "name": "ipython",
    "version": 3
   },
   "file_extension": ".py",
   "mimetype": "text/x-python",
   "name": "python",
   "nbconvert_exporter": "python",
   "pygments_lexer": "ipython3",
   "version": "3.10.2"
  },
  "orig_nbformat": 4,
  "vscode": {
   "interpreter": {
    "hash": "aee8b7b246df8f9039afb4144a1f6fd8d2ca17a180786b69acc140d282b71a49"
   }
  }
 },
 "nbformat": 4,
 "nbformat_minor": 2
}
